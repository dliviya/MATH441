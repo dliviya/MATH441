{
 "cells": [
  {
   "cell_type": "code",
   "execution_count": 1,
   "id": "a86c2d53-2c35-4471-bd5e-6d146f97c9ee",
   "metadata": {
    "tags": []
   },
   "outputs": [
    {
     "name": "stdout",
     "output_type": "stream",
     "text": [
      "(CVXPY) Apr 15 11:08:35 AM: Encountered unexpected exception importing solver GLOP:\n",
      "RuntimeError('Unrecognized new version of ortools (9.9.3963). Expected < 9.8.0. Please open a feature request on cvxpy to enable support for this version.')\n",
      "(CVXPY) Apr 15 11:08:35 AM: Encountered unexpected exception importing solver PDLP:\n",
      "RuntimeError('Unrecognized new version of ortools (9.9.3963). Expected < 9.8.0. Please open a feature request on cvxpy to enable support for this version.')\n"
     ]
    }
   ],
   "source": [
    "import numpy as np\n",
    "import matplotlib.pyplot as plt\n",
    "import cvxpy as cvx # I have version 1.4.2\n",
    "from matplotlib.patches import Circle\n",
    "import scipy.linalg as la"
   ]
  },
  {
   "cell_type": "code",
   "execution_count": 2,
   "id": "9b13cb87-6726-4071-8950-61cc50064829",
   "metadata": {
    "tags": []
   },
   "outputs": [],
   "source": [
    "# Generate a random non-trivial quadratic program.\n",
    "n = 10 #number of points \n",
    "p_x = np.random.uniform(0, 10, size=n) #random x's\n",
    "p_y = np.random.uniform(0, 10, size=n) #random y's\n",
    "P = [] # All the corrdinates\n",
    "for _ in range(n):\n",
    "    P.append((p_x,p_y))\n",
    "    \n",
    "C = np.column_stack((p_x, p_y)).T\n",
    "\n",
    "# The following code was used to force a PSD matrix by making the\n",
    "# diagonal values larger than the sum of the rest of the row\n",
    "# for i in range(C.shape[0]):\n",
    "#     for j in range(C.shape[1]):\n",
    "#         if i == j:\n",
    "#             row_sum = sum(C[i]) - C[i][i]\n",
    "#             C[i][j] = 1 + row_sum\n",
    "D = (C.T @ C)\n",
    "\n",
    "# The following code was used to shift the matrix by a small value, another\n",
    "# attempt to make the eigenvalues negative. The eigenvalues remained negative\n",
    "# I think this is because of a small computational error in the computer\n",
    "# eps = 1e-14\n",
    "# D1 = D + eps*np.eye(n)"
   ]
  },
  {
   "cell_type": "code",
   "execution_count": 3,
   "id": "cfc0a6fa-53a1-4d7b-931c-9b41a68d3a51",
   "metadata": {
    "tags": []
   },
   "outputs": [
    {
     "data": {
      "text/plain": [
       "(2, 10)"
      ]
     },
     "execution_count": 3,
     "metadata": {},
     "output_type": "execute_result"
    }
   ],
   "source": [
    "C.shape"
   ]
  },
  {
   "cell_type": "code",
   "execution_count": 4,
   "id": "0005b424-7888-40c3-b204-fd7a5385453d",
   "metadata": {
    "tags": []
   },
   "outputs": [
    {
     "data": {
      "text/plain": [
       "array([[9.22, 7.35, 8.31, 0.65, 2.3 , 4.61, 4.78, 9.26, 9.28, 5.45],\n",
       "       [3.42, 5.18, 5.67, 5.92, 5.08, 3.9 , 7.28, 2.77, 1.05, 6.11]])"
      ]
     },
     "execution_count": 4,
     "metadata": {},
     "output_type": "execute_result"
    }
   ],
   "source": [
    "C.round(2)"
   ]
  },
  {
   "cell_type": "code",
   "execution_count": 5,
   "id": "86147a71-b5e5-4e30-b330-64e8c0c12007",
   "metadata": {
    "tags": []
   },
   "outputs": [],
   "source": [
    "s = np.sum(C*C,axis=0)"
   ]
  },
  {
   "cell_type": "code",
   "execution_count": 6,
   "id": "c97b8b08-8576-436c-8c07-621daaf0f73f",
   "metadata": {
    "tags": []
   },
   "outputs": [
    {
     "data": {
      "image/png": "[encoded data removed]",
      "text/plain": [
       "<Figure size 640x480 with 1 Axes>"
      ]
     },
     "metadata": {},
     "output_type": "display_data"
    }
   ],
   "source": [
    "#plot points to see what they look like\n",
    "fig, ax = plt.subplots()\n",
    "ax.scatter(p_x,p_y)\n",
    "plt.axis('equal')\n",
    "plt.show()"
   ]
  },
  {
   "cell_type": "code",
   "execution_count": 7,
   "id": "7aae978e-9be4-4ba1-8874-4f263ad7499e",
   "metadata": {
    "tags": []
   },
   "outputs": [],
   "source": [
    "# Define and solve the CVXPY problem.\n",
    "x = cvx.Variable(n)\n",
    "obj = cvx.Minimize(cvx.quad_form(x,D,assume_PSD=True) - s@x)\n",
    "\n",
    "# Below are various objective functions I tried to change around to force the objetive to be convex\n",
    "# Ultimately I used a paramater 'assume_PSD' to force a positive semidefinite matrix.\n",
    "# obj = cvx.Minimize((x.T @ D @ x) - cvx.sum(C.T @ C @ x))\n",
    "# obj = cvx.Minimize((x.T @ D @ x))\n",
    "# obj = cvx.Minimize((x.T @ D @ x) - cvx.sum(cvx.multiply(S,x)))\n",
    "# obj = cvx.Minimize(cvx.quad_form(x, D) - cvx.sum(cvx.multiply(S,x)))\n",
    "# obj = cvx.Minimize(cvx.quad_form(x, D) - cvx.sum(S @ x))\n",
    "# obj = cvx.Minimize(cvx.quad_form(x,D,quadratic=True) - s@x)\n",
    "constraints = [cvx.sum(x) == 1, \n",
    "               x >= 0]\n",
    "prob = cvx.Problem(obj, constraints)\n",
    "results = prob.solve()"
   ]
  },
  {
   "cell_type": "code",
   "execution_count": 8,
   "id": "6568eeaf-b382-4541-9b53-4bacfd105d17",
   "metadata": {
    "tags": []
   },
   "outputs": [
    {
     "data": {
      "text/plain": [
       "-24.549878550756404"
      ]
     },
     "execution_count": 8,
     "metadata": {},
     "output_type": "execute_result"
    }
   ],
   "source": [
    "results"
   ]
  },
  {
   "cell_type": "code",
   "execution_count": 9,
   "id": "09b5cf67-001d-4e74-a1f4-7134acc1e623",
   "metadata": {
    "tags": []
   },
   "outputs": [],
   "source": [
    "x_star = x.value"
   ]
  },
  {
   "cell_type": "code",
   "execution_count": 10,
   "id": "78430da9-7880-40ca-9ba4-270cee8af97a",
   "metadata": {
    "tags": []
   },
   "outputs": [
    {
     "data": {
      "text/plain": [
       "(10,)"
      ]
     },
     "execution_count": 10,
     "metadata": {},
     "output_type": "execute_result"
    }
   ],
   "source": [
    "x_star.shape"
   ]
  },
  {
   "cell_type": "code",
   "execution_count": 11,
   "id": "23021579-f780-44e5-8322-407299e0b205",
   "metadata": {
    "tags": []
   },
   "outputs": [],
   "source": [
    "p_star_1 = np.sum(C[0,:] @ x_star)\n",
    "p_star_2 = np.sum(C[1,:] @ x_star)"
   ]
  },
  {
   "cell_type": "code",
   "execution_count": 12,
   "id": "715214ae-5978-4687-b970-749f4b9b7772",
   "metadata": {
    "tags": []
   },
   "outputs": [
    {
     "data": {
      "image/png": "[encoded data removed]",
      "text/plain": [
       "<Figure size 640x480 with 1 Axes>"
      ]
     },
     "metadata": {},
     "output_type": "display_data"
    }
   ],
   "source": [
    "center = (p_star_1, p_star_2)\n",
    "radius = np.sqrt(abs(results))\n",
    "circle = Circle(center, radius, fill = False)\n",
    "fig, ax = plt.subplots()\n",
    "ax.scatter(p_x,p_y)\n",
    "ax.add_patch(circle)\n",
    "ax.plot(p_star_1, p_star_2, 'ro')\n",
    "ax.text(p_star_1, p_star_2, 'Center', color='red')\n",
    "plt.axis('equal')\n",
    "plt.show()"
   ]
  }
 ],
 "metadata": {
  "kernelspec": {
   "display_name": "Python 3 (ipykernel)",
   "language": "python",
   "name": "python3"
  },
  "language_info": {
   "codemirror_mode": {
    "name": "ipython",
    "version": 3
   },
   "file_extension": ".py",
   "mimetype": "text/x-python",
   "name": "python",
   "nbconvert_exporter": "python",
   "pygments_lexer": "ipython3",
   "version": "3.11.5"
  }
 },
 "nbformat": 4,
 "nbformat_minor": 5
}
