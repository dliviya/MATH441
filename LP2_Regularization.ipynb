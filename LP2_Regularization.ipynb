{
 "cells": [
  {
   "cell_type": "code",
   "execution_count": 1,
   "id": "5aba9c31-56bd-4980-b985-6767f8fc19ab",
   "metadata": {
    "tags": []
   },
   "outputs": [],
   "source": [
    "import itertools\n",
    "import pandas as pd\n",
    "import numpy as np\n",
    "from sklearn.model_selection import train_test_split\n",
    "from sklearn.linear_model import Lasso, LogisticRegression\n",
    "from sklearn.feature_selection import SelectFromModel\n",
    "from sklearn.preprocessing import StandardScaler\n",
    "from sklearn.metrics import accuracy_score"
   ]
  },
  {
   "cell_type": "markdown",
   "id": "658b8814-2ef1-4900-877e-45126a74c40d",
   "metadata": {},
   "source": [
    "## Data"
   ]
  },
  {
   "cell_type": "code",
   "execution_count": 2,
   "id": "1e3f574b-d959-4998-880f-702ef8f0821a",
   "metadata": {
    "tags": []
   },
   "outputs": [
    {
     "data": {
      "text/html": [
       "<div>\n",
       "<style scoped>\n",
       "    .dataframe tbody tr th:only-of-type {\n",
       "        vertical-align: middle;\n",
       "    }\n",
       "\n",
       "    .dataframe tbody tr th {\n",
       "        vertical-align: top;\n",
       "    }\n",
       "\n",
       "    .dataframe thead th {\n",
       "        text-align: right;\n",
       "    }\n",
       "</style>\n",
       "<table border=\"1\" class=\"dataframe\">\n",
       "  <thead>\n",
       "    <tr style=\"text-align: right;\">\n",
       "      <th></th>\n",
       "      <th>Diabetes_binary</th>\n",
       "      <th>HighBP</th>\n",
       "      <th>HighChol</th>\n",
       "      <th>CholCheck</th>\n",
       "      <th>BMI</th>\n",
       "      <th>Smoker</th>\n",
       "      <th>Stroke</th>\n",
       "      <th>HeartDiseaseorAttack</th>\n",
       "      <th>PhysActivity</th>\n",
       "      <th>Fruits</th>\n",
       "      <th>...</th>\n",
       "      <th>AnyHealthcare</th>\n",
       "      <th>NoDocbcCost</th>\n",
       "      <th>GenHlth</th>\n",
       "      <th>MentHlth</th>\n",
       "      <th>PhysHlth</th>\n",
       "      <th>DiffWalk</th>\n",
       "      <th>Sex</th>\n",
       "      <th>Age</th>\n",
       "      <th>Education</th>\n",
       "      <th>Income</th>\n",
       "    </tr>\n",
       "  </thead>\n",
       "  <tbody>\n",
       "    <tr>\n",
       "      <th>0</th>\n",
       "      <td>0.0</td>\n",
       "      <td>1.0</td>\n",
       "      <td>0.0</td>\n",
       "      <td>1.0</td>\n",
       "      <td>26.0</td>\n",
       "      <td>0.0</td>\n",
       "      <td>0.0</td>\n",
       "      <td>0.0</td>\n",
       "      <td>1.0</td>\n",
       "      <td>0.0</td>\n",
       "      <td>...</td>\n",
       "      <td>1.0</td>\n",
       "      <td>0.0</td>\n",
       "      <td>3.0</td>\n",
       "      <td>5.0</td>\n",
       "      <td>30.0</td>\n",
       "      <td>0.0</td>\n",
       "      <td>1.0</td>\n",
       "      <td>4.0</td>\n",
       "      <td>6.0</td>\n",
       "      <td>8.0</td>\n",
       "    </tr>\n",
       "    <tr>\n",
       "      <th>1</th>\n",
       "      <td>0.0</td>\n",
       "      <td>1.0</td>\n",
       "      <td>1.0</td>\n",
       "      <td>1.0</td>\n",
       "      <td>26.0</td>\n",
       "      <td>1.0</td>\n",
       "      <td>1.0</td>\n",
       "      <td>0.0</td>\n",
       "      <td>0.0</td>\n",
       "      <td>1.0</td>\n",
       "      <td>...</td>\n",
       "      <td>1.0</td>\n",
       "      <td>0.0</td>\n",
       "      <td>3.0</td>\n",
       "      <td>0.0</td>\n",
       "      <td>0.0</td>\n",
       "      <td>0.0</td>\n",
       "      <td>1.0</td>\n",
       "      <td>12.0</td>\n",
       "      <td>6.0</td>\n",
       "      <td>8.0</td>\n",
       "    </tr>\n",
       "    <tr>\n",
       "      <th>2</th>\n",
       "      <td>0.0</td>\n",
       "      <td>0.0</td>\n",
       "      <td>0.0</td>\n",
       "      <td>1.0</td>\n",
       "      <td>26.0</td>\n",
       "      <td>0.0</td>\n",
       "      <td>0.0</td>\n",
       "      <td>0.0</td>\n",
       "      <td>1.0</td>\n",
       "      <td>1.0</td>\n",
       "      <td>...</td>\n",
       "      <td>1.0</td>\n",
       "      <td>0.0</td>\n",
       "      <td>1.0</td>\n",
       "      <td>0.0</td>\n",
       "      <td>10.0</td>\n",
       "      <td>0.0</td>\n",
       "      <td>1.0</td>\n",
       "      <td>13.0</td>\n",
       "      <td>6.0</td>\n",
       "      <td>8.0</td>\n",
       "    </tr>\n",
       "    <tr>\n",
       "      <th>3</th>\n",
       "      <td>0.0</td>\n",
       "      <td>1.0</td>\n",
       "      <td>1.0</td>\n",
       "      <td>1.0</td>\n",
       "      <td>28.0</td>\n",
       "      <td>1.0</td>\n",
       "      <td>0.0</td>\n",
       "      <td>0.0</td>\n",
       "      <td>1.0</td>\n",
       "      <td>1.0</td>\n",
       "      <td>...</td>\n",
       "      <td>1.0</td>\n",
       "      <td>0.0</td>\n",
       "      <td>3.0</td>\n",
       "      <td>0.0</td>\n",
       "      <td>3.0</td>\n",
       "      <td>0.0</td>\n",
       "      <td>1.0</td>\n",
       "      <td>11.0</td>\n",
       "      <td>6.0</td>\n",
       "      <td>8.0</td>\n",
       "    </tr>\n",
       "    <tr>\n",
       "      <th>4</th>\n",
       "      <td>0.0</td>\n",
       "      <td>0.0</td>\n",
       "      <td>0.0</td>\n",
       "      <td>1.0</td>\n",
       "      <td>29.0</td>\n",
       "      <td>1.0</td>\n",
       "      <td>0.0</td>\n",
       "      <td>0.0</td>\n",
       "      <td>1.0</td>\n",
       "      <td>1.0</td>\n",
       "      <td>...</td>\n",
       "      <td>1.0</td>\n",
       "      <td>0.0</td>\n",
       "      <td>2.0</td>\n",
       "      <td>0.0</td>\n",
       "      <td>0.0</td>\n",
       "      <td>0.0</td>\n",
       "      <td>0.0</td>\n",
       "      <td>8.0</td>\n",
       "      <td>5.0</td>\n",
       "      <td>8.0</td>\n",
       "    </tr>\n",
       "  </tbody>\n",
       "</table>\n",
       "<p>5 rows × 22 columns</p>\n",
       "</div>"
      ],
      "text/plain": [
       "   Diabetes_binary  HighBP  HighChol  CholCheck   BMI  Smoker  Stroke  \\\n",
       "0              0.0     1.0       0.0        1.0  26.0     0.0     0.0   \n",
       "1              0.0     1.0       1.0        1.0  26.0     1.0     1.0   \n",
       "2              0.0     0.0       0.0        1.0  26.0     0.0     0.0   \n",
       "3              0.0     1.0       1.0        1.0  28.0     1.0     0.0   \n",
       "4              0.0     0.0       0.0        1.0  29.0     1.0     0.0   \n",
       "\n",
       "   HeartDiseaseorAttack  PhysActivity  Fruits  ...  AnyHealthcare  \\\n",
       "0                   0.0           1.0     0.0  ...            1.0   \n",
       "1                   0.0           0.0     1.0  ...            1.0   \n",
       "2                   0.0           1.0     1.0  ...            1.0   \n",
       "3                   0.0           1.0     1.0  ...            1.0   \n",
       "4                   0.0           1.0     1.0  ...            1.0   \n",
       "\n",
       "   NoDocbcCost  GenHlth  MentHlth  PhysHlth  DiffWalk  Sex   Age  Education  \\\n",
       "0          0.0      3.0       5.0      30.0       0.0  1.0   4.0        6.0   \n",
       "1          0.0      3.0       0.0       0.0       0.0  1.0  12.0        6.0   \n",
       "2          0.0      1.0       0.0      10.0       0.0  1.0  13.0        6.0   \n",
       "3          0.0      3.0       0.0       3.0       0.0  1.0  11.0        6.0   \n",
       "4          0.0      2.0       0.0       0.0       0.0  0.0   8.0        5.0   \n",
       "\n",
       "   Income  \n",
       "0     8.0  \n",
       "1     8.0  \n",
       "2     8.0  \n",
       "3     8.0  \n",
       "4     8.0  \n",
       "\n",
       "[5 rows x 22 columns]"
      ]
     },
     "execution_count": 2,
     "metadata": {},
     "output_type": "execute_result"
    }
   ],
   "source": [
    "# https://www.kaggle.com/datasets/alexteboul/diabetes-health-indicators-dataset\n",
    "url = 'https://raw.githubusercontent.com/dliviya/MATH441/main/diabeteas_clean.csv'\n",
    "full_data = pd.read_csv(url)\n",
    "full_data.head()"
   ]
  },
  {
   "cell_type": "code",
   "execution_count": 3,
   "id": "eb3c1ec8-3e2f-4545-a1de-7d2e4b7476c5",
   "metadata": {
    "tags": []
   },
   "outputs": [],
   "source": [
    "# selecting a subset of column to run models on\n",
    "cols = ['Diabetes_binary', 'HighBP', 'HighChol', 'CholCheck', 'BMI', 'Smoker']\n",
    "subset_data = full_data[cols].copy()"
   ]
  },
  {
   "cell_type": "code",
   "execution_count": 4,
   "id": "e6a1b9a3-1ed9-4346-a224-323c33ae1235",
   "metadata": {
    "tags": []
   },
   "outputs": [],
   "source": [
    "# Splitting data into features and response variables\n",
    "X = subset_data.drop(columns=['Diabetes_binary'])\n",
    "y = subset_data['Diabetes_binary']\n",
    "\n",
    "# Training and Test sets\n",
    "X_train, X_test, y_train, y_test = train_test_split(X, y, test_size=0.3, random_state=2001)"
   ]
  },
  {
   "cell_type": "code",
   "execution_count": 5,
   "id": "49fb37b4-9600-411e-9cf7-39babfa34c60",
   "metadata": {
    "tags": []
   },
   "outputs": [],
   "source": [
    "# Preprocess numerical values (they are all numerical)\n",
    "scaler = StandardScaler()\n",
    "X_train_scaled = scaler.fit_transform(X_train)\n",
    "X_test_scaled = scaler.transform(X_test)"
   ]
  },
  {
   "cell_type": "code",
   "execution_count": 6,
   "id": "ee0bb736-fce6-40e8-9a2e-dfb16e2cd83a",
   "metadata": {
    "tags": []
   },
   "outputs": [
    {
     "data": {
      "text/plain": [
       "5"
      ]
     },
     "execution_count": 6,
     "metadata": {},
     "output_type": "execute_result"
    }
   ],
   "source": [
    "X_train_scaled.shape[1]"
   ]
  },
  {
   "cell_type": "markdown",
   "id": "25e82dff-cd9e-4cb3-bebf-9c8fc71ce94c",
   "metadata": {},
   "source": [
    "## L0 Regularization"
   ]
  },
  {
   "cell_type": "code",
   "execution_count": 7,
   "id": "8a63b3a0-de24-454a-b559-860f9791db72",
   "metadata": {},
   "outputs": [],
   "source": [
    "# get combinations of features\n",
    "combinations = []\n",
    "for r in range(X_train_scaled.shape[1]):\n",
    "    combinations.extend(itertools.combinations(range(X_train_scaled.shape[1]), r+1))\n"
   ]
  },
  {
   "cell_type": "code",
   "execution_count": 8,
   "id": "97c6404b-bc69-4619-aa68-a0d3c0fe424b",
   "metadata": {
    "tags": []
   },
   "outputs": [],
   "source": [
    "# iterate over all combinations and fit logistic regression models\n",
    "best_model = None\n",
    "chosen_variables = None\n",
    "most_nonzero = float('inf')\n",
    "for c in combinations:\n",
    "    # get features for the given combination\n",
    "    X_train_subset = X_train_scaled[:, list(c)]\n",
    "    X_test_subset = X_test_scaled[:, list(c)]\n",
    "    \n",
    "    # fit logistic regression model\n",
    "    model = LogisticRegression(penalty=None)\n",
    "    model.fit(X_train_subset, y_train)\n",
    "    \n",
    "    # count nonzero coefficients\n",
    "    nonzero_count = np.count_nonzero(model.coef_)\n",
    "    \n",
    "    # update best model\n",
    "    if nonzero_count < most_nonzero:\n",
    "        best_model = model\n",
    "        chosen_variables = c\n",
    "        most_nonzero = nonzero_count     "
   ]
  },
  {
   "cell_type": "code",
   "execution_count": 9,
   "id": "f1b106a2-bc13-4b9d-a82d-cfc8742842b6",
   "metadata": {
    "tags": []
   },
   "outputs": [
    {
     "data": {
      "text/plain": [
       "array([[0.81034239]])"
      ]
     },
     "execution_count": 9,
     "metadata": {},
     "output_type": "execute_result"
    }
   ],
   "source": [
    "best_model.coef_"
   ]
  },
  {
   "cell_type": "code",
   "execution_count": 10,
   "id": "9817702b-adae-4d72-9594-2637061469ce",
   "metadata": {
    "tags": []
   },
   "outputs": [],
   "source": [
    "# select best features\n",
    "best_features_ind = list(chosen_variables)\n",
    "best_features = X.columns[best_features_ind]"
   ]
  },
  {
   "cell_type": "code",
   "execution_count": 11,
   "id": "cbf8928d-8353-410a-b5e5-a33bb6bbfb8f",
   "metadata": {
    "tags": []
   },
   "outputs": [],
   "source": [
    "y_pred_l0 = best_model.predict(X_test_scaled[:, best_features_ind])"
   ]
  },
  {
   "cell_type": "code",
   "execution_count": 12,
   "id": "1f4aee09-a71c-4b05-bc28-6845dd97d5c5",
   "metadata": {
    "tags": []
   },
   "outputs": [
    {
     "name": "stdout",
     "output_type": "stream",
     "text": [
      "Index(['HighBP'], dtype='object')\n",
      "0.6879479441720106\n",
      "Index(['HighChol'], dtype='object')\n",
      "0.6428706148623161\n",
      "Index(['CholCheck'], dtype='object')\n",
      "0.520746887966805\n",
      "Index(['BMI'], dtype='object')\n",
      "0.6301395699735949\n",
      "Index(['Smoker'], dtype='object')\n",
      "0.5443228970199925\n",
      "Index(['HighBP', 'HighChol'], dtype='object')\n",
      "0.6879479441720106\n",
      "Index(['HighBP', 'CholCheck'], dtype='object')\n",
      "0.6896454168238401\n",
      "Index(['HighBP', 'BMI'], dtype='object')\n",
      "0.6914371935118823\n",
      "Index(['HighBP', 'Smoker'], dtype='object')\n",
      "0.6879479441720106\n",
      "Index(['HighChol', 'CholCheck'], dtype='object')\n",
      "0.6457940399849114\n",
      "Index(['HighChol', 'BMI'], dtype='object')\n",
      "0.6667766880422482\n",
      "Index(['HighChol', 'Smoker'], dtype='object')\n",
      "0.6428706148623161\n",
      "Index(['CholCheck', 'BMI'], dtype='object')\n",
      "0.6339588834402112\n",
      "Index(['CholCheck', 'Smoker'], dtype='object')\n",
      "0.5513956997359487\n",
      "Index(['BMI', 'Smoker'], dtype='object')\n",
      "0.6381082610335722\n",
      "Index(['HighBP', 'HighChol', 'CholCheck'], dtype='object')\n",
      "0.6896454168238401\n",
      "Index(['HighBP', 'HighChol', 'BMI'], dtype='object')\n",
      "0.702093549603923\n",
      "Index(['HighBP', 'HighChol', 'Smoker'], dtype='object')\n",
      "0.6879479441720106\n",
      "Index(['HighBP', 'CholCheck', 'BMI'], dtype='object')\n",
      "0.6936061863447756\n",
      "Index(['HighBP', 'CholCheck', 'Smoker'], dtype='object')\n",
      "0.6896454168238401\n",
      "Index(['HighBP', 'BMI', 'Smoker'], dtype='object')\n",
      "0.6920973217653715\n",
      "Index(['HighChol', 'CholCheck', 'BMI'], dtype='object')\n",
      "0.6687099207846096\n",
      "Index(['HighChol', 'CholCheck', 'Smoker'], dtype='object')\n",
      "0.6457940399849114\n",
      "Index(['HighChol', 'BMI', 'Smoker'], dtype='object')\n",
      "0.6690871369294605\n",
      "Index(['CholCheck', 'BMI', 'Smoker'], dtype='object')\n",
      "0.6435307431158054\n",
      "Index(['HighBP', 'HighChol', 'CholCheck', 'BMI'], dtype='object')\n",
      "0.703838174273859\n",
      "Index(['HighBP', 'HighChol', 'CholCheck', 'Smoker'], dtype='object')\n",
      "0.6896454168238401\n",
      "Index(['HighBP', 'HighChol', 'BMI', 'Smoker'], dtype='object')\n",
      "0.7019049415314975\n",
      "Index(['HighBP', 'CholCheck', 'BMI', 'Smoker'], dtype='object')\n",
      "0.6945020746887967\n",
      "Index(['HighChol', 'CholCheck', 'BMI', 'Smoker'], dtype='object')\n",
      "0.6738023387400981\n",
      "Index(['HighBP', 'HighChol', 'CholCheck', 'BMI', 'Smoker'], dtype='object')\n",
      "0.7036967182195398\n"
     ]
    }
   ],
   "source": [
    "# accuracy for all combinations\n",
    "best_model = None\n",
    "chosen_variables = None\n",
    "most_nonzero = float('inf')\n",
    "for c in combinations:\n",
    "    # get features for the given combination\n",
    "    X_train_subset = X_train_scaled[:, list(c)]\n",
    "    X_test_subset = X_test_scaled[:, list(c)]\n",
    "    \n",
    "    # fit logistic regression model\n",
    "    model = LogisticRegression(penalty=None)\n",
    "    model.fit(X_train_subset, y_train)\n",
    "    \n",
    "    # count nonzero coefficients\n",
    "    nonzero_count = np.count_nonzero(model.coef_)\n",
    "    \n",
    "    best_features_ind_all = list(list(c))\n",
    "    best_features_all = X.columns[best_features_ind_all]\n",
    "    print(best_features_all)\n",
    "    y_pred_l0_all = model.predict(X_test_scaled[:, best_features_ind_all])\n",
    "    accuracy_l0 = accuracy_score(y_test, y_pred_l0_all)\n",
    "    print(accuracy_l0)   "
   ]
  },
  {
   "cell_type": "markdown",
   "id": "a728cc3a-cda9-46d2-bf19-25f284d1a7a4",
   "metadata": {},
   "source": [
    "## L1 Regularization"
   ]
  },
  {
   "cell_type": "code",
   "execution_count": 13,
   "id": "7a06a760-8b69-423a-83e7-d3bd803df3b9",
   "metadata": {
    "tags": []
   },
   "outputs": [],
   "source": [
    "l1_model = LogisticRegression(penalty='l1', solver='liblinear') # liblinear was used because the dataset is fairly small\n",
    "l1_model.fit(X_train_scaled, y_train)\n",
    "\n",
    "l1_selector = SelectFromModel(l1_model, prefit=True)\n",
    "X_train_l1 = l1_selector.transform(X_train_scaled)\n",
    "X_test_l1 = l1_selector.transform(X_test_scaled)"
   ]
  },
  {
   "cell_type": "code",
   "execution_count": 14,
   "id": "179e2278-e17c-4c9d-9b62-a40212581d80",
   "metadata": {
    "tags": []
   },
   "outputs": [
    {
     "data": {
      "text/html": [
       "<style>#sk-container-id-1 {color: black;}#sk-container-id-1 pre{padding: 0;}#sk-container-id-1 div.sk-toggleable {background-color: white;}#sk-container-id-1 label.sk-toggleable__label {cursor: pointer;display: block;width: 100%;margin-bottom: 0;padding: 0.3em;box-sizing: border-box;text-align: center;}#sk-container-id-1 label.sk-toggleable__label-arrow:before {content: \"▸\";float: left;margin-right: 0.25em;color: #696969;}#sk-container-id-1 label.sk-toggleable__label-arrow:hover:before {color: black;}#sk-container-id-1 div.sk-estimator:hover label.sk-toggleable__label-arrow:before {color: black;}#sk-container-id-1 div.sk-toggleable__content {max-height: 0;max-width: 0;overflow: hidden;text-align: left;background-color: #f0f8ff;}#sk-container-id-1 div.sk-toggleable__content pre {margin: 0.2em;color: black;border-radius: 0.25em;background-color: #f0f8ff;}#sk-container-id-1 input.sk-toggleable__control:checked~div.sk-toggleable__content {max-height: 200px;max-width: 100%;overflow: auto;}#sk-container-id-1 input.sk-toggleable__control:checked~label.sk-toggleable__label-arrow:before {content: \"▾\";}#sk-container-id-1 div.sk-estimator input.sk-toggleable__control:checked~label.sk-toggleable__label {background-color: #d4ebff;}#sk-container-id-1 div.sk-label input.sk-toggleable__control:checked~label.sk-toggleable__label {background-color: #d4ebff;}#sk-container-id-1 input.sk-hidden--visually {border: 0;clip: rect(1px 1px 1px 1px);clip: rect(1px, 1px, 1px, 1px);height: 1px;margin: -1px;overflow: hidden;padding: 0;position: absolute;width: 1px;}#sk-container-id-1 div.sk-estimator {font-family: monospace;background-color: #f0f8ff;border: 1px dotted black;border-radius: 0.25em;box-sizing: border-box;margin-bottom: 0.5em;}#sk-container-id-1 div.sk-estimator:hover {background-color: #d4ebff;}#sk-container-id-1 div.sk-parallel-item::after {content: \"\";width: 100%;border-bottom: 1px solid gray;flex-grow: 1;}#sk-container-id-1 div.sk-label:hover label.sk-toggleable__label {background-color: #d4ebff;}#sk-container-id-1 div.sk-serial::before {content: \"\";position: absolute;border-left: 1px solid gray;box-sizing: border-box;top: 0;bottom: 0;left: 50%;z-index: 0;}#sk-container-id-1 div.sk-serial {display: flex;flex-direction: column;align-items: center;background-color: white;padding-right: 0.2em;padding-left: 0.2em;position: relative;}#sk-container-id-1 div.sk-item {position: relative;z-index: 1;}#sk-container-id-1 div.sk-parallel {display: flex;align-items: stretch;justify-content: center;background-color: white;position: relative;}#sk-container-id-1 div.sk-item::before, #sk-container-id-1 div.sk-parallel-item::before {content: \"\";position: absolute;border-left: 1px solid gray;box-sizing: border-box;top: 0;bottom: 0;left: 50%;z-index: -1;}#sk-container-id-1 div.sk-parallel-item {display: flex;flex-direction: column;z-index: 1;position: relative;background-color: white;}#sk-container-id-1 div.sk-parallel-item:first-child::after {align-self: flex-end;width: 50%;}#sk-container-id-1 div.sk-parallel-item:last-child::after {align-self: flex-start;width: 50%;}#sk-container-id-1 div.sk-parallel-item:only-child::after {width: 0;}#sk-container-id-1 div.sk-dashed-wrapped {border: 1px dashed gray;margin: 0 0.4em 0.5em 0.4em;box-sizing: border-box;padding-bottom: 0.4em;background-color: white;}#sk-container-id-1 div.sk-label label {font-family: monospace;font-weight: bold;display: inline-block;line-height: 1.2em;}#sk-container-id-1 div.sk-label-container {text-align: center;}#sk-container-id-1 div.sk-container {/* jupyter's `normalize.less` sets `[hidden] { display: none; }` but bootstrap.min.css set `[hidden] { display: none !important; }` so we also need the `!important` here to be able to override the default hidden behavior on the sphinx rendered scikit-learn.org. See: https://github.com/scikit-learn/scikit-learn/issues/21755 */display: inline-block !important;position: relative;}#sk-container-id-1 div.sk-text-repr-fallback {display: none;}</style><div id=\"sk-container-id-1\" class=\"sk-top-container\"><div class=\"sk-text-repr-fallback\"><pre>LogisticRegression()</pre><b>In a Jupyter environment, please rerun this cell to show the HTML representation or trust the notebook. <br />On GitHub, the HTML representation is unable to render, please try loading this page with nbviewer.org.</b></div><div class=\"sk-container\" hidden><div class=\"sk-item\"><div class=\"sk-estimator sk-toggleable\"><input class=\"sk-toggleable__control sk-hidden--visually\" id=\"sk-estimator-id-1\" type=\"checkbox\" checked><label for=\"sk-estimator-id-1\" class=\"sk-toggleable__label sk-toggleable__label-arrow\">LogisticRegression</label><div class=\"sk-toggleable__content\"><pre>LogisticRegression()</pre></div></div></div></div></div>"
      ],
      "text/plain": [
       "LogisticRegression()"
      ]
     },
     "execution_count": 14,
     "metadata": {},
     "output_type": "execute_result"
    }
   ],
   "source": [
    "# model is trained again. helps identify the important features. \n",
    "# training will train the model with only the feature we want\n",
    "model_l1 = LogisticRegression()\n",
    "model_l1.fit(X_train_l1, y_train)"
   ]
  },
  {
   "cell_type": "code",
   "execution_count": 15,
   "id": "7c122d6e-e3f6-4bf9-97dc-06e6991f8a8a",
   "metadata": {
    "tags": []
   },
   "outputs": [],
   "source": [
    "y_pred_l1 = model_l1.predict(X_test_l1)"
   ]
  },
  {
   "cell_type": "code",
   "execution_count": 16,
   "id": "fb16a52a-5ce6-44b6-a2d6-834634cba2e0",
   "metadata": {
    "tags": []
   },
   "outputs": [],
   "source": [
    "best_features_l1 = l1_selector.get_support()\n",
    "best_feature_names_l1 = X.columns[best_features_l1]"
   ]
  },
  {
   "cell_type": "markdown",
   "id": "67db42eb-0087-41dc-ab98-b4c8a7c1dfaf",
   "metadata": {},
   "source": [
    "## L2 Regularization"
   ]
  },
  {
   "cell_type": "code",
   "execution_count": 17,
   "id": "8c69d1bc-15a6-446c-a2de-e788262d059f",
   "metadata": {
    "tags": []
   },
   "outputs": [],
   "source": [
    "l2_model = LogisticRegression(penalty='l2', solver='liblinear') # liblinear was used because the dataset is fairly small\n",
    "l2_model.fit(X_train_scaled, y_train)\n",
    "\n",
    "l2_selector = SelectFromModel(l2_model, prefit=True)\n",
    "X_train_l2 = l2_selector.transform(X_train_scaled)\n",
    "X_test_l2 = l2_selector.transform(X_test_scaled)"
   ]
  },
  {
   "cell_type": "code",
   "execution_count": 18,
   "id": "9b498714-40cc-47ec-97af-a7c3315c4c31",
   "metadata": {
    "tags": []
   },
   "outputs": [
    {
     "data": {
      "text/html": [
       "<style>#sk-container-id-2 {color: black;}#sk-container-id-2 pre{padding: 0;}#sk-container-id-2 div.sk-toggleable {background-color: white;}#sk-container-id-2 label.sk-toggleable__label {cursor: pointer;display: block;width: 100%;margin-bottom: 0;padding: 0.3em;box-sizing: border-box;text-align: center;}#sk-container-id-2 label.sk-toggleable__label-arrow:before {content: \"▸\";float: left;margin-right: 0.25em;color: #696969;}#sk-container-id-2 label.sk-toggleable__label-arrow:hover:before {color: black;}#sk-container-id-2 div.sk-estimator:hover label.sk-toggleable__label-arrow:before {color: black;}#sk-container-id-2 div.sk-toggleable__content {max-height: 0;max-width: 0;overflow: hidden;text-align: left;background-color: #f0f8ff;}#sk-container-id-2 div.sk-toggleable__content pre {margin: 0.2em;color: black;border-radius: 0.25em;background-color: #f0f8ff;}#sk-container-id-2 input.sk-toggleable__control:checked~div.sk-toggleable__content {max-height: 200px;max-width: 100%;overflow: auto;}#sk-container-id-2 input.sk-toggleable__control:checked~label.sk-toggleable__label-arrow:before {content: \"▾\";}#sk-container-id-2 div.sk-estimator input.sk-toggleable__control:checked~label.sk-toggleable__label {background-color: #d4ebff;}#sk-container-id-2 div.sk-label input.sk-toggleable__control:checked~label.sk-toggleable__label {background-color: #d4ebff;}#sk-container-id-2 input.sk-hidden--visually {border: 0;clip: rect(1px 1px 1px 1px);clip: rect(1px, 1px, 1px, 1px);height: 1px;margin: -1px;overflow: hidden;padding: 0;position: absolute;width: 1px;}#sk-container-id-2 div.sk-estimator {font-family: monospace;background-color: #f0f8ff;border: 1px dotted black;border-radius: 0.25em;box-sizing: border-box;margin-bottom: 0.5em;}#sk-container-id-2 div.sk-estimator:hover {background-color: #d4ebff;}#sk-container-id-2 div.sk-parallel-item::after {content: \"\";width: 100%;border-bottom: 1px solid gray;flex-grow: 1;}#sk-container-id-2 div.sk-label:hover label.sk-toggleable__label {background-color: #d4ebff;}#sk-container-id-2 div.sk-serial::before {content: \"\";position: absolute;border-left: 1px solid gray;box-sizing: border-box;top: 0;bottom: 0;left: 50%;z-index: 0;}#sk-container-id-2 div.sk-serial {display: flex;flex-direction: column;align-items: center;background-color: white;padding-right: 0.2em;padding-left: 0.2em;position: relative;}#sk-container-id-2 div.sk-item {position: relative;z-index: 1;}#sk-container-id-2 div.sk-parallel {display: flex;align-items: stretch;justify-content: center;background-color: white;position: relative;}#sk-container-id-2 div.sk-item::before, #sk-container-id-2 div.sk-parallel-item::before {content: \"\";position: absolute;border-left: 1px solid gray;box-sizing: border-box;top: 0;bottom: 0;left: 50%;z-index: -1;}#sk-container-id-2 div.sk-parallel-item {display: flex;flex-direction: column;z-index: 1;position: relative;background-color: white;}#sk-container-id-2 div.sk-parallel-item:first-child::after {align-self: flex-end;width: 50%;}#sk-container-id-2 div.sk-parallel-item:last-child::after {align-self: flex-start;width: 50%;}#sk-container-id-2 div.sk-parallel-item:only-child::after {width: 0;}#sk-container-id-2 div.sk-dashed-wrapped {border: 1px dashed gray;margin: 0 0.4em 0.5em 0.4em;box-sizing: border-box;padding-bottom: 0.4em;background-color: white;}#sk-container-id-2 div.sk-label label {font-family: monospace;font-weight: bold;display: inline-block;line-height: 1.2em;}#sk-container-id-2 div.sk-label-container {text-align: center;}#sk-container-id-2 div.sk-container {/* jupyter's `normalize.less` sets `[hidden] { display: none; }` but bootstrap.min.css set `[hidden] { display: none !important; }` so we also need the `!important` here to be able to override the default hidden behavior on the sphinx rendered scikit-learn.org. See: https://github.com/scikit-learn/scikit-learn/issues/21755 */display: inline-block !important;position: relative;}#sk-container-id-2 div.sk-text-repr-fallback {display: none;}</style><div id=\"sk-container-id-2\" class=\"sk-top-container\"><div class=\"sk-text-repr-fallback\"><pre>LogisticRegression()</pre><b>In a Jupyter environment, please rerun this cell to show the HTML representation or trust the notebook. <br />On GitHub, the HTML representation is unable to render, please try loading this page with nbviewer.org.</b></div><div class=\"sk-container\" hidden><div class=\"sk-item\"><div class=\"sk-estimator sk-toggleable\"><input class=\"sk-toggleable__control sk-hidden--visually\" id=\"sk-estimator-id-2\" type=\"checkbox\" checked><label for=\"sk-estimator-id-2\" class=\"sk-toggleable__label sk-toggleable__label-arrow\">LogisticRegression</label><div class=\"sk-toggleable__content\"><pre>LogisticRegression()</pre></div></div></div></div></div>"
      ],
      "text/plain": [
       "LogisticRegression()"
      ]
     },
     "execution_count": 18,
     "metadata": {},
     "output_type": "execute_result"
    }
   ],
   "source": [
    "model_l2 = LogisticRegression()\n",
    "model_l2.fit(X_train_l2, y_train)"
   ]
  },
  {
   "cell_type": "code",
   "execution_count": 19,
   "id": "ba67def4-44c6-4aa5-8074-275fe5676706",
   "metadata": {
    "tags": []
   },
   "outputs": [],
   "source": [
    "y_pred_l2 = model_l2.predict(X_test_l2)"
   ]
  },
  {
   "cell_type": "code",
   "execution_count": 20,
   "id": "cc77e610-e2ef-47ce-bcd1-f49fb872ce19",
   "metadata": {},
   "outputs": [],
   "source": [
    "best_feature_l2 = l2_selector.get_support()\n",
    "best_feature_names_l2 = X.columns[best_feature_l2]"
   ]
  },
  {
   "cell_type": "markdown",
   "id": "359a874b-f23e-4328-8e68-0acdba387c1b",
   "metadata": {},
   "source": [
    "### Accuracy Check"
   ]
  },
  {
   "cell_type": "code",
   "execution_count": 21,
   "id": "4b6b0343-e706-4a07-8832-b185a5c696dc",
   "metadata": {
    "tags": []
   },
   "outputs": [
    {
     "name": "stdout",
     "output_type": "stream",
     "text": [
      "L0:  0.6879479441720106\n",
      "Best Features for L0: ['HighBP']\n",
      "L1:  0.7036967182195398\n",
      "Best Features for L1: ['HighBP', 'HighChol', 'CholCheck', 'BMI', 'Smoker']\n",
      "L2:  0.702093549603923\n",
      "Best Features for L2: ['HighBP', 'HighChol', 'BMI']\n"
     ]
    }
   ],
   "source": [
    "accuracy_l0 = accuracy_score(y_test, y_pred_l0)\n",
    "accuracy_l1 = accuracy_score(y_test, y_pred_l1)\n",
    "accuracy_l2 = accuracy_score(y_test, y_pred_l2)\n",
    "print('L0: ', accuracy_l0)\n",
    "print('Best Features for L0:', best_features.tolist())\n",
    "print('L1: ', accuracy_l1)\n",
    "print('Best Features for L1:', best_feature_names_l1.tolist())\n",
    "print('L2: ', accuracy_l2)\n",
    "print('Best Features for L2:', best_feature_names_l2.tolist())"
   ]
  },
  {
   "cell_type": "code",
   "execution_count": null,
   "id": "7648d203-99ad-4a84-ac10-603b9798904e",
   "metadata": {},
   "outputs": [],
   "source": []
  }
 ],
 "metadata": {
  "kernelspec": {
   "display_name": "Python 3 (ipykernel)",
   "language": "python",
   "name": "python3"
  },
  "language_info": {
   "codemirror_mode": {
    "name": "ipython",
    "version": 3
   },
   "file_extension": ".py",
   "mimetype": "text/x-python",
   "name": "python",
   "nbconvert_exporter": "python",
   "pygments_lexer": "ipython3",
   "version": "3.11.5"
  }
 },
 "nbformat": 4,
 "nbformat_minor": 5
}
