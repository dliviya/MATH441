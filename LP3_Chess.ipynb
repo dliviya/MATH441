{
 "cells": [
  {
   "cell_type": "code",
   "execution_count": 1,
   "id": "42670af4-5506-4123-bb11-5ce55b84d270",
   "metadata": {
    "tags": []
   },
   "outputs": [
    {
     "name": "stdout",
     "output_type": "stream",
     "text": [
      "(CVXPY) Mar 27 09:12:18 AM: Encountered unexpected exception importing solver GLOP:\n",
      "RuntimeError('Unrecognized new version of ortools (9.9.3963). Expected < 9.8.0. Please open a feature request on cvxpy to enable support for this version.')\n",
      "(CVXPY) Mar 27 09:12:18 AM: Encountered unexpected exception importing solver PDLP:\n",
      "RuntimeError('Unrecognized new version of ortools (9.9.3963). Expected < 9.8.0. Please open a feature request on cvxpy to enable support for this version.')\n"
     ]
    }
   ],
   "source": [
    "import cvxpy as cvx\n",
    "import numpy as np"
   ]
  },
  {
   "cell_type": "markdown",
   "id": "dbced0f0-490e-475b-8944-f12b8fdff7dc",
   "metadata": {},
   "source": [
    "## Rooks"
   ]
  },
  {
   "cell_type": "code",
   "execution_count": 67,
   "id": "9caf2b3f-8f8d-4b23-9591-633a2fd2aca8",
   "metadata": {
    "tags": []
   },
   "outputs": [
    {
     "name": "stdout",
     "output_type": "stream",
     "text": [
      "Optimal number of rooks: 8.0\n"
     ]
    },
    {
     "data": {
      "text/plain": [
       "array([[ 1.,  0.,  0., -0.,  0.,  0.,  0.,  0.],\n",
       "       [ 0., -0.,  0.,  0.,  1.,  0.,  0., -0.],\n",
       "       [-0.,  0.,  0.,  0.,  0., -0.,  1.,  0.],\n",
       "       [ 0.,  0.,  0.,  0.,  0.,  1.,  0.,  0.],\n",
       "       [ 0.,  0.,  0., -0.,  0.,  0.,  0.,  1.],\n",
       "       [ 0.,  0., -0.,  1.,  0.,  0.,  0.,  0.],\n",
       "       [-0.,  1.,  0.,  0.,  0.,  0.,  0.,  0.],\n",
       "       [ 0.,  0.,  1.,  0.,  0., -0.,  0.,  0.]])"
      ]
     },
     "execution_count": 67,
     "metadata": {},
     "output_type": "execute_result"
    }
   ],
   "source": [
    "n = 8 # board size\n",
    "x_rook = cvx.Variable((n, n), boolean=True) # creating a variable for the board\n",
    "obj = cvx.Maximize(cvx.sum(x_rook))\n",
    "constraints = [(cvx.sum(x_rook, axis = 0) <= 1), #one rook in vertically\n",
    "               (cvx.sum(x_rook, axis = 1) <= 1)] #one rook horizontally\n",
    "prob = cvx.Problem(obj, constraints)\n",
    "\n",
    "result = prob.solve()\n",
    "\n",
    "print(\"Optimal number of rooks:\", result)\n",
    "x_rook.value"
   ]
  },
  {
   "cell_type": "markdown",
   "id": "12ce6b8f-1bd1-449f-a704-0b485f03aca7",
   "metadata": {},
   "source": [
    "## Bishops"
   ]
  },
  {
   "cell_type": "code",
   "execution_count": 61,
   "id": "6d15b6cb-a054-473c-a284-c68e4c83460b",
   "metadata": {
    "tags": []
   },
   "outputs": [
    {
     "name": "stdout",
     "output_type": "stream",
     "text": [
      "Optimal number of bishops: 14.0\n"
     ]
    },
    {
     "data": {
      "text/plain": [
       "array([[ 1.,  1.,  1., -0.,  0.,  0., -0.,  0.],\n",
       "       [ 0.,  0.,  0.,  0.,  0.,  0.,  0.,  1.],\n",
       "       [ 0.,  0.,  0.,  0.,  0.,  0., -0.,  1.],\n",
       "       [ 1.,  0.,  0.,  0.,  0.,  0.,  0.,  1.],\n",
       "       [ 1.,  0.,  0.,  0.,  0.,  0.,  0.,  1.],\n",
       "       [ 1.,  0.,  0.,  0.,  0.,  0.,  0., -0.],\n",
       "       [ 1.,  0.,  0.,  0.,  0., -0.,  0.,  0.],\n",
       "       [ 1.,  0., -0., -0., -0.,  1.,  1.,  0.]])"
      ]
     },
     "execution_count": 61,
     "metadata": {},
     "output_type": "execute_result"
    }
   ],
   "source": [
    "n = 8  # board size\n",
    "x_bishop = cvx.Variable((n, n), boolean=True)  # creating a variable for the board\n",
    "obj = cvx.Maximize(cvx.sum(x_bishop))\n",
    "constraints = []\n",
    "\n",
    "#left to right diagonals\n",
    "for l in range(x_bishop.shape[0]):\n",
    "    diag = cvx.diag(x_bishop, k = l)\n",
    "    diag_sum = cvx.sum(diag)\n",
    "    constraints += [diag_sum <= 1]\n",
    "\n",
    "for l in range(1,x_bishop.shape[0]):\n",
    "    diag = cvx.diag(x_bishop, k = -l)\n",
    "    diag_sum = cvx.sum(diag)\n",
    "    constraints += [diag_sum <= 1]\n",
    "    \n",
    "# right to left diagonals\n",
    "for l in range(x_bishop.shape[0]):\n",
    "    diag = cvx.diag(x_bishop[::-1, :], k = l)\n",
    "    diag_sum = cvx.sum(diag)\n",
    "    constraints += [diag_sum <= 1]\n",
    "\n",
    "for l in range(1,x_bishop.shape[0]):\n",
    "    diag = cvx.diag(x_bishop[::-1, :], k = -l)\n",
    "    diag_sum = cvx.sum(diag)\n",
    "    constraints += [diag_sum <= 1]\n",
    "    \n",
    "prob = cvx.Problem(obj, constraints)\n",
    "result = prob.solve()\n",
    "\n",
    "print(\"Optimal number of bishops:\", result)\n",
    "x_bishop.value"
   ]
  },
  {
   "cell_type": "markdown",
   "id": "ec8acf59-3d7a-461f-8051-fa91bdb6748d",
   "metadata": {},
   "source": [
    "## Queens"
   ]
  },
  {
   "cell_type": "code",
   "execution_count": 13,
   "id": "a834db00-4811-4e86-a895-be2ea118ae59",
   "metadata": {
    "tags": []
   },
   "outputs": [
    {
     "name": "stdout",
     "output_type": "stream",
     "text": [
      "Optimal number of queens: 8.0\n",
      "[[ 0. -0.  1.  0.  0.  0.  0. -0.]\n",
      " [-0.  0.  0.  0.  0.  1.  0.  0.]\n",
      " [ 0.  0.  0.  0.  0.  0.  0.  1.]\n",
      " [ 1.  0.  0.  0.  0.  0. -0. -0.]\n",
      " [ 0. -0.  0.  0.  1.  0.  0.  0.]\n",
      " [ 0. -0.  0. -0.  0.  0.  1.  0.]\n",
      " [ 0.  1.  0.  0.  0.  0.  0.  0.]\n",
      " [ 0.  0.  0.  1. -0.  0. -0. -0.]]\n"
     ]
    }
   ],
   "source": [
    "n = 8 # board size\n",
    "x_queen = cvx.Variable((n, n), boolean=True) # creating a variable for the board\n",
    "obj = cvx.Maximize(cvx.sum(x_queen))\n",
    "constraints = [(cvx.sum(x_queen, axis = 0) <= 1), #col\n",
    "               (cvx.sum(x_queen, axis = 1) <= 1)] #row\n",
    "\n",
    "#left to right diagonals\n",
    "for l in range(x_queen.shape[0]):\n",
    "    diag = cvx.diag(x_queen, k = l)\n",
    "    diag_sum = cvx.sum(diag)\n",
    "    constraints += [diag_sum <= 1]\n",
    "\n",
    "for l in range(1,x_queen.shape[0]):\n",
    "    diag = cvx.diag(x_queen, k = -l)\n",
    "    diag_sum = cvx.sum(diag)\n",
    "    constraints += [diag_sum <= 1]\n",
    "    \n",
    "# right to left diagonals\n",
    "for l in range(x_queen.shape[0]):\n",
    "    diag = cvx.diag(x_queen[::-1, :], k = l)\n",
    "    diag_sum = cvx.sum(diag)\n",
    "    constraints += [diag_sum <= 1]\n",
    "\n",
    "for l in range(1,x_queen.shape[0]):\n",
    "    diag = cvx.diag(x_queen[::-1, :], k = -l)\n",
    "    diag_sum = cvx.sum(diag)\n",
    "    constraints += [diag_sum <= 1]\n",
    "                \n",
    "prob = cvx.Problem(obj, constraints)\n",
    "\n",
    "result = prob.solve()\n",
    "\n",
    "print(\"Optimal number of queens:\", np.round(result,decimals=10))\n",
    "print(np.round(x_queen.value,decimals=10))"
   ]
  },
  {
   "cell_type": "markdown",
   "id": "dd0e3b5a-f0ef-4dc1-824a-eb84e1850d29",
   "metadata": {},
   "source": [
    "## Kings"
   ]
  },
  {
   "cell_type": "code",
   "execution_count": 71,
   "id": "502e81b2-849d-4bbe-b77e-401b952f1ac1",
   "metadata": {
    "tags": []
   },
   "outputs": [
    {
     "name": "stdout",
     "output_type": "stream",
     "text": [
      "Optimal number of kings: 16.0\n"
     ]
    },
    {
     "data": {
      "text/plain": [
       "array([[1., 0., 1., 0., 0., 1., 0., 1.],\n",
       "       [0., 0., 0., 0., 0., 0., 0., 0.],\n",
       "       [1., 0., 1., 0., 0., 1., 0., 1.],\n",
       "       [0., 0., 0., 0., 0., 0., 0., 0.],\n",
       "       [0., 0., 0., 0., 0., 0., 0., 0.],\n",
       "       [1., 0., 1., 0., 0., 1., 0., 1.],\n",
       "       [0., 0., 0., 0., 0., 0., 0., 0.],\n",
       "       [1., 0., 1., 0., 0., 1., 0., 1.]])"
      ]
     },
     "execution_count": 71,
     "metadata": {},
     "output_type": "execute_result"
    }
   ],
   "source": [
    "n = 8 # board size\n",
    "x_king = cvx.Variable((n, n), boolean=True) # creating a variable for the board\n",
    "obj = cvx.Maximize(cvx.sum(x_king))\n",
    "constraints = []\n",
    "\n",
    "# size of the submatrix\n",
    "sub_rows, sub_cols = 2, 2\n",
    "\n",
    "for i in range(n - sub_rows + 1):\n",
    "    for j in range(n - sub_cols + 1):\n",
    "        # extract submatrix\n",
    "        submatrix = x_king[i:i+sub_rows, j:j+sub_cols]\n",
    "        sum_submatrix = cvx.sum(submatrix)\n",
    "        constraints += [sum_submatrix <= 1] # there can only be 1 king in the submatrix\n",
    "\n",
    "\n",
    "\n",
    "prob = cvx.Problem(obj, constraints)\n",
    "\n",
    "result = prob.solve()\n",
    "\n",
    "print(\"Optimal number of kings:\", result)\n",
    "x_king.value"
   ]
  },
  {
   "cell_type": "markdown",
   "id": "fe1e3638-5ca7-4228-90b3-000c3d8398fa",
   "metadata": {},
   "source": [
    "## Knights"
   ]
  },
  {
   "cell_type": "code",
   "execution_count": 14,
   "id": "8dffbbf6-935a-43e6-bfc3-c7c5b336b3f1",
   "metadata": {
    "tags": []
   },
   "outputs": [
    {
     "name": "stdout",
     "output_type": "stream",
     "text": [
      "Optimal number of Knights: 32.0\n"
     ]
    },
    {
     "data": {
      "text/plain": [
       "array([[ 1., -0.,  1., -0.,  1., -0.,  1., -0.],\n",
       "       [-0.,  1., -0.,  1., -0.,  1., -0.,  1.],\n",
       "       [ 1., -0.,  1., -0.,  1., -0.,  1., -0.],\n",
       "       [-0.,  1., -0.,  1., -0.,  1., -0.,  1.],\n",
       "       [ 1., -0.,  1., -0.,  1., -0.,  1., -0.],\n",
       "       [-0.,  1., -0.,  1., -0.,  1., -0.,  1.],\n",
       "       [ 1., -0.,  1., -0.,  1., -0.,  1., -0.],\n",
       "       [-0.,  1., -0.,  1., -0.,  1., -0.,  1.]])"
      ]
     },
     "execution_count": 14,
     "metadata": {},
     "output_type": "execute_result"
    }
   ],
   "source": [
    "n = 8 # board size\n",
    "x_knight = cvx.Variable((n, n), boolean=True) # creating a variable for the board\n",
    "obj = cvx.Maximize(cvx.sum(x_knight))\n",
    "constraints = []\n",
    "\n",
    "for i in range(1, 8):\n",
    "    for j in range(0,6):\n",
    "        constraints += [(x_knight[i, j] + x_knight[i-1, j+2] <= 1)]\n",
    "        \n",
    "for i in range(0, 7):\n",
    "    for j in range(0,6):\n",
    "        constraints += [(x_knight[i, j] + x_knight[i+1, j+2] <= 1)]\n",
    "        \n",
    "for i in range(2, 8):\n",
    "    for j in range(0,7):\n",
    "        constraints += [(x_knight[i, j] + x_knight[i-2, j+1] <= 1)]\n",
    "        \n",
    "for i in range(0, 6):\n",
    "    for j in range(0,7):\n",
    "        constraints += [(x_knight[i, j] + x_knight[i+2, j+1] <= 1)]\n",
    "\n",
    "\n",
    "prob = cvx.Problem(obj, constraints)\n",
    "\n",
    "result = prob.solve()\n",
    "\n",
    "print(\"Optimal number of Knights:\", result)\n",
    "x_knight.value"
   ]
  },
  {
   "cell_type": "code",
   "execution_count": null,
   "id": "c0e513a6-27fc-409d-a818-eb9536b7dfae",
   "metadata": {},
   "outputs": [],
   "source": []
  }
 ],
 "metadata": {
  "kernelspec": {
   "display_name": "Python 3 (ipykernel)",
   "language": "python",
   "name": "python3"
  },
  "language_info": {
   "codemirror_mode": {
    "name": "ipython",
    "version": 3
   },
   "file_extension": ".py",
   "mimetype": "text/x-python",
   "name": "python",
   "nbconvert_exporter": "python",
   "pygments_lexer": "ipython3",
   "version": "3.11.5"
  }
 },
 "nbformat": 4,
 "nbformat_minor": 5
}
