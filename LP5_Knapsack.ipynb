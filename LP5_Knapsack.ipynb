{
 "cells": [
  {
   "cell_type": "code",
   "execution_count": 1,
   "id": "19851286-9362-4559-b748-4d6a62ed5b78",
   "metadata": {},
   "outputs": [],
   "source": [
    "# importing google or tools knapsack solver\n",
    "from ortools.algorithms.python import knapsack_solver\n",
    "import time\n",
    "import pandas as pd\n",
    "pd.options.display.float_format = '{:e}'.format"
   ]
  },
  {
   "cell_type": "code",
   "execution_count": 2,
   "id": "45bfb644-cbb0-448b-985e-27c27be6424a",
   "metadata": {},
   "outputs": [],
   "source": [
    "# Creating the data\n",
    "items = [\n",
    "    'tent', 'sleeping_bag', 'camping_stove', 'purification_tablets', \n",
    "    'freeze_dry_food', 'bear_food_container', 'first_aid_kit', 'headlamp',\n",
    "    'gps', 'pot', 'multitool', 'whistle', 'compass', 'bug_spray', 'chair', 'charger',\n",
    "    'tent_footprint', 'bottle', 'bear_spray', 'fire_starter', 'hiking_poles', 'tarp',\n",
    "    'field_guide', 'towel', 'hammock', 'shoes', 'binoculars', 'socks', 'book', 'bug_net', 'utensils',\n",
    "    'cards', 'mirror'\n",
    "]\n",
    "weights = [\n",
    "    [17, 4, 4, 1, 8, 5, 3, 1, 1, \n",
    "     1, 1, 4, 2, 1, 1, 1, 4, 2, 2, \n",
    "     1, 2, 1, 3, 3, 1, 1, 3, 1, 1, 1],\n",
    "]\n",
    "\n",
    "values = [\n",
    "    89, 73, 66, 51, 86, 74, 68, 64, 78, 68,\n",
    "    60, 63, 52, 47, 50, 45, 53, 77, 48, 60,\n",
    "    73, 51, 62, 56, 63, 47, 57, 48, 60, 54\n",
    "]\n",
    "\n",
    "capacities = [30]"
   ]
  },
  {
   "cell_type": "markdown",
   "id": "83b083d7-c9ca-470f-813b-bc6d83964f5f",
   "metadata": {},
   "source": [
    "## Branch and Bound"
   ]
  },
  {
   "cell_type": "code",
   "execution_count": 3,
   "id": "6f9fa2ec-1634-48b2-9d8d-db773df37551",
   "metadata": {},
   "outputs": [
    {
     "name": "stdout",
     "output_type": "stream",
     "text": [
      "6.25 µs ± 19.3 ns per loop (mean ± std. dev. of 7 runs, 100,000 loops each)\n"
     ]
    }
   ],
   "source": [
    "%%timeit\n",
    "\n",
    "#Intializing solver\n",
    "solver_branch_bound = knapsack_solver.KnapsackSolver(\n",
    "    knapsack_solver.SolverType.KNAPSACK_MULTIDIMENSION_BRANCH_AND_BOUND_SOLVER,\n",
    "    \"branch and bound\"\n",
    ")\n",
    "\n",
    "#Adding problem parameters\n",
    "solver_branch_bound.init(values, weights, capacities)\n",
    "\n",
    "# Finding optimal solution\n",
    "computed_branch_bound = solver_branch_bound.solve()\n"
   ]
  },
  {
   "cell_type": "code",
   "execution_count": 4,
   "id": "7672aaf7-3020-4738-bb0f-4b6252e09243",
   "metadata": {},
   "outputs": [],
   "source": [
    "#Intializing solver\n",
    "solver_branch_bound = knapsack_solver.KnapsackSolver(\n",
    "    knapsack_solver.SolverType.KNAPSACK_MULTIDIMENSION_BRANCH_AND_BOUND_SOLVER,\n",
    "    \"branch and bound\"\n",
    ")\n",
    "\n",
    "#Adding problem parameters\n",
    "solver_branch_bound.init(values, weights, capacities)\n",
    "\n",
    "# Finding optimal solution\n",
    "computed_branch_bound = solver_branch_bound.solve()"
   ]
  },
  {
   "cell_type": "code",
   "execution_count": 5,
   "id": "09dadabc-1433-47ef-b077-f167c2f63ccc",
   "metadata": {},
   "outputs": [
    {
     "name": "stdout",
     "output_type": "stream",
     "text": [
      "Total value: 1237\n",
      "Total weight: 30\n",
      "Packed items: [1, 3, 6, 7, 8, 9, 10, 12, 13, 14, 15, 17, 18, 19, 20, 21, 24, 25, 27, 28, 29]\n"
     ]
    }
   ],
   "source": [
    "# Printing optimal value\n",
    "packed_items = []\n",
    "total_weight = 0\n",
    "print(\"Total value:\", computed_branch_bound)\n",
    "for i in range(len(values)):\n",
    "    if solver_branch_bound.best_solution_contains(i):\n",
    "        packed_items.append(i)\n",
    "        total_weight += weights[0][i]\n",
    "print(\"Total weight:\", total_weight)\n",
    "print(\"Packed items:\", packed_items)"
   ]
  },
  {
   "cell_type": "markdown",
   "id": "5e4006de-f994-4c87-84be-1b84b9d46b28",
   "metadata": {},
   "source": [
    "## 64 Item Solver"
   ]
  },
  {
   "cell_type": "code",
   "execution_count": 6,
   "id": "dee11680-7b8c-4206-8f83-026d3d22618d",
   "metadata": {},
   "outputs": [
    {
     "name": "stdout",
     "output_type": "stream",
     "text": [
      "3.64 µs ± 69.2 ns per loop (mean ± std. dev. of 7 runs, 100,000 loops each)\n"
     ]
    }
   ],
   "source": [
    "%%timeit\n",
    "\n",
    "#Intializing solver\n",
    "solver_64_item = knapsack_solver.KnapsackSolver(\n",
    "    knapsack_solver.SolverType.KNAPSACK_64ITEMS_SOLVER,\n",
    "    \"64 item\",\n",
    ")\n",
    "\n",
    "#Adding problem parameters\n",
    "solver_64_item.init(values, weights, capacities)\n",
    "\n",
    "# Finding optimal solution\n",
    "computed_64_item = solver_64_item.solve()\n"
   ]
  },
  {
   "cell_type": "code",
   "execution_count": 7,
   "id": "61fe430d-a964-4e29-a2ea-d99b782272ff",
   "metadata": {},
   "outputs": [],
   "source": [
    "#Intializing solver\n",
    "solver_64_item = knapsack_solver.KnapsackSolver(\n",
    "    knapsack_solver.SolverType.KNAPSACK_64ITEMS_SOLVER,\n",
    "    \"64 item\",\n",
    ")\n",
    "\n",
    "#Adding problem parameters\n",
    "solver_64_item.init(values, weights, capacities)\n",
    "\n",
    "# Finding optimal solution\n",
    "computed_64_item = solver_64_item.solve()"
   ]
  },
  {
   "cell_type": "code",
   "execution_count": 8,
   "id": "16fc3eda-1eb2-47e3-b460-f8edce0f44a9",
   "metadata": {},
   "outputs": [
    {
     "name": "stdout",
     "output_type": "stream",
     "text": [
      "Total value: 1237\n",
      "Total weight: 30\n",
      "Packed items: [1, 3, 6, 7, 8, 9, 10, 12, 13, 14, 15, 17, 18, 19, 20, 21, 24, 25, 27, 28, 29]\n"
     ]
    }
   ],
   "source": [
    "# Printing optimal value\n",
    "packed_items = []\n",
    "total_weight = 0\n",
    "print(\"Total value:\", computed_64_item)\n",
    "for i in range(len(values)):\n",
    "    if solver_64_item.best_solution_contains(i):\n",
    "        packed_items.append(i)\n",
    "        total_weight += weights[0][i]\n",
    "print(\"Total weight:\", total_weight)\n",
    "print(\"Packed items:\", packed_items)"
   ]
  },
  {
   "cell_type": "markdown",
   "id": "7cfa9ab2-bcda-457f-9eed-1bb2fd6c0856",
   "metadata": {},
   "source": [
    "## Brute Force"
   ]
  },
  {
   "cell_type": "code",
   "execution_count": 9,
   "id": "f8f4a68b-b0e6-49fe-9cc1-4794aa3699f1",
   "metadata": {},
   "outputs": [
    {
     "name": "stdout",
     "output_type": "stream",
     "text": [
      "3.24 s ± 7.28 ms per loop (mean ± std. dev. of 7 runs, 1 loop each)\n"
     ]
    }
   ],
   "source": [
    "%%timeit\n",
    "\n",
    "#Intializing solver\n",
    "solver_brute_force = knapsack_solver.KnapsackSolver(\n",
    "    knapsack_solver.SolverType.KNAPSACK_BRUTE_FORCE_SOLVER,\n",
    "    \"brute force\",\n",
    ")\n",
    "\n",
    "#Adding problem parameters\n",
    "solver_brute_force.init(values, weights, capacities)\n",
    "\n",
    "# Finding optimal solution\n",
    "computed_brute_force = solver_brute_force.solve()\n"
   ]
  },
  {
   "cell_type": "code",
   "execution_count": 10,
   "id": "eba584e1-8448-415d-af28-c71085df3c58",
   "metadata": {},
   "outputs": [],
   "source": [
    "#Intializing solver\n",
    "solver_brute_force = knapsack_solver.KnapsackSolver(\n",
    "    knapsack_solver.SolverType.KNAPSACK_BRUTE_FORCE_SOLVER,\n",
    "    \"brute force\",\n",
    ")\n",
    "\n",
    "#Adding problem parameters\n",
    "solver_brute_force.init(values, weights, capacities)\n",
    "\n",
    "# Finding optimal solution\n",
    "computed_brute_force = solver_brute_force.solve()"
   ]
  },
  {
   "cell_type": "code",
   "execution_count": 11,
   "id": "099cd00e-08cd-4cab-9800-210753f68c96",
   "metadata": {},
   "outputs": [
    {
     "name": "stdout",
     "output_type": "stream",
     "text": [
      "Total value: 1237\n",
      "Total weight: 30\n",
      "Packed items: [1, 3, 6, 7, 8, 9, 10, 12, 13, 14, 15, 17, 18, 19, 20, 21, 24, 25, 27, 28, 29]\n"
     ]
    }
   ],
   "source": [
    "# Printing optimal value\n",
    "packed_items = []\n",
    "total_weight = 0\n",
    "print(\"Total value:\", computed_brute_force)\n",
    "for i in range(len(values)):\n",
    "    if solver_brute_force.best_solution_contains(i):\n",
    "        packed_items.append(i)\n",
    "        total_weight += weights[0][i]\n",
    "print(\"Total weight:\", total_weight)\n",
    "print(\"Packed items:\", packed_items)"
   ]
  },
  {
   "cell_type": "markdown",
   "id": "d75de799-6bde-49f1-af0b-20abdf029f16",
   "metadata": {},
   "source": [
    "## Dynamic Solver"
   ]
  },
  {
   "cell_type": "code",
   "execution_count": 12,
   "id": "667818b8-62ed-4f04-a34b-496e8a700055",
   "metadata": {},
   "outputs": [
    {
     "name": "stdout",
     "output_type": "stream",
     "text": [
      "6.5 µs ± 26.5 ns per loop (mean ± std. dev. of 7 runs, 100,000 loops each)\n"
     ]
    }
   ],
   "source": [
    "%%timeit\n",
    "\n",
    "#Intializing solver\n",
    "solver_dynamic = knapsack_solver.KnapsackSolver(\n",
    "    knapsack_solver.SolverType.KNAPSACK_DYNAMIC_PROGRAMMING_SOLVER,\n",
    "    \"dynamic solver\",\n",
    ")\n",
    "\n",
    "#Adding problem parameters\n",
    "solver_dynamic.init(values, weights, capacities)\n",
    "\n",
    "# Finding optimal solution\n",
    "computed_dynamic = solver_dynamic.solve()\n"
   ]
  },
  {
   "cell_type": "code",
   "execution_count": 13,
   "id": "0c66a4c6-71ca-4c97-9a67-3c6c9410a8fe",
   "metadata": {},
   "outputs": [],
   "source": [
    "#Intializing solver\n",
    "solver_dynamic = knapsack_solver.KnapsackSolver(\n",
    "    knapsack_solver.SolverType.KNAPSACK_DYNAMIC_PROGRAMMING_SOLVER,\n",
    "    \"dynamic solver\",\n",
    ")\n",
    "\n",
    "#Adding problem parameters\n",
    "solver_dynamic.init(values, weights, capacities)\n",
    "\n",
    "# Finding optimal solution\n",
    "computed_dynamic = solver_dynamic.solve()"
   ]
  },
  {
   "cell_type": "code",
   "execution_count": 14,
   "id": "575f6266-a75e-41cf-9f87-cb76b56832bd",
   "metadata": {
    "tags": []
   },
   "outputs": [
    {
     "name": "stdout",
     "output_type": "stream",
     "text": [
      "Total value: 1237\n",
      "Total weight: 30\n",
      "Packed items: [1, 3, 6, 7, 8, 9, 10, 12, 13, 14, 15, 17, 18, 19, 20, 21, 24, 25, 27, 28, 29]\n"
     ]
    }
   ],
   "source": [
    "# Printing optimal value\n",
    "packed_items = []\n",
    "total_weight = 0\n",
    "print(\"Total value:\", computed_dynamic)\n",
    "for i in range(len(values)):\n",
    "    if solver_dynamic.best_solution_contains(i):\n",
    "        packed_items.append(i)\n",
    "        total_weight += weights[0][i]\n",
    "print(\"Total weight:\", total_weight)\n",
    "print(\"Packed items:\", packed_items)"
   ]
  }
 ],
 "metadata": {
  "kernelspec": {
   "display_name": "Python 3 (ipykernel)",
   "language": "python",
   "name": "python3"
  },
  "language_info": {
   "codemirror_mode": {
    "name": "ipython",
    "version": 3
   },
   "file_extension": ".py",
   "mimetype": "text/x-python",
   "name": "python",
   "nbconvert_exporter": "python",
   "pygments_lexer": "ipython3",
   "version": "3.11.5"
  }
 },
 "nbformat": 4,
 "nbformat_minor": 5
}
