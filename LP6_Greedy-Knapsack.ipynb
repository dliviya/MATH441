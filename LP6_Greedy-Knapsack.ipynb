{
 "cells": [
  {
   "cell_type": "code",
   "execution_count": 1,
   "id": "de2274c5-af96-4358-b4ea-75b2a8cf5cef",
   "metadata": {
    "tags": []
   },
   "outputs": [],
   "source": [
    "import pandas as pd\n",
    "import numpy as np"
   ]
  },
  {
   "cell_type": "code",
   "execution_count": 2,
   "id": "1b279e92-b67c-4bc9-a0d5-0cbb182b58dc",
   "metadata": {
    "tags": []
   },
   "outputs": [],
   "source": [
    "# Creating the data\n",
    "items = [\n",
    "    'tent', 'sleeping_bag', 'camping_stove', 'purification_tablets', \n",
    "    'freeze_dry_food', 'bear_food_container', 'first_aid_kit', 'headlamp',\n",
    "    'gps', 'pot', 'multitool', 'whistle', 'compass', 'bug_spray', 'chair', 'charger',\n",
    "    'tent_footprint', 'bottle', 'bear_spray', 'fire_starter', 'hiking_poles', 'tarp',\n",
    "    'field_guide', 'towel', 'hammock', 'shoes', 'binoculars', 'socks', 'book', 'bug_net', 'utensils',\n",
    "    'cards', 'mirror'\n",
    "]\n",
    "\n",
    "weights = [\n",
    "     17, 4, 4, 1, 8, 5, 3, 1, 1, \n",
    "     1, 1, 4, 2, 1, 1, 1, 4, 2, 2, \n",
    "     1, 2, 1, 3, 3, 1, 1, 3, 1, 1, 1\n",
    "]\n",
    "\n",
    "values = [\n",
    "    89, 73, 66, 51, 86, 74, 68, 64, 78, 68,\n",
    "    60, 63, 52, 47, 50, 45, 53, 77, 48, 60,\n",
    "    73, 51, 62, 56, 63, 47, 57, 48, 60, 54\n",
    "]\n",
    "\n",
    "capacities = 30\n"
   ]
  },
  {
   "cell_type": "code",
   "execution_count": 3,
   "id": "5e8a9be9-6194-4cad-a19d-d99d198b69f0",
   "metadata": {
    "tags": []
   },
   "outputs": [],
   "source": [
    "# getting value per weight\n",
    "value_per_weight = []\n",
    "for i in range(len(weights)):\n",
    "    value_per_weight_here = values[i] / weights[i]\n",
    "    value_per_weight_here = round(value_per_weight_here, 2)\n",
    "    value_per_weight.append(value_per_weight_here)"
   ]
  },
  {
   "cell_type": "code",
   "execution_count": 4,
   "id": "da3d73c4-9829-42e1-ac6b-821453c1e5b4",
   "metadata": {
    "tags": []
   },
   "outputs": [
    {
     "data": {
      "text/plain": [
       "{'tent': [17, 89, 5.24],\n",
       " 'sleeping_bag': [4, 73, 18.25],\n",
       " 'camping_stove': [4, 66, 16.5],\n",
       " 'purification_tablets': [1, 51, 51.0],\n",
       " 'freeze_dry_food': [8, 86, 10.75],\n",
       " 'bear_food_container': [5, 74, 14.8],\n",
       " 'first_aid_kit': [3, 68, 22.67],\n",
       " 'headlamp': [1, 64, 64.0],\n",
       " 'gps': [1, 78, 78.0],\n",
       " 'pot': [1, 68, 68.0],\n",
       " 'multitool': [1, 60, 60.0],\n",
       " 'whistle': [4, 63, 15.75],\n",
       " 'compass': [2, 52, 26.0],\n",
       " 'bug_spray': [1, 47, 47.0],\n",
       " 'chair': [1, 50, 50.0],\n",
       " 'charger': [1, 45, 45.0],\n",
       " 'tent_footprint': [4, 53, 13.25],\n",
       " 'bottle': [2, 77, 38.5],\n",
       " 'bear_spray': [2, 48, 24.0],\n",
       " 'fire_starter': [1, 60, 60.0],\n",
       " 'hiking_poles': [2, 73, 36.5],\n",
       " 'tarp': [1, 51, 51.0],\n",
       " 'field_guide': [3, 62, 20.67],\n",
       " 'towel': [3, 56, 18.67],\n",
       " 'hammock': [1, 63, 63.0],\n",
       " 'shoes': [1, 47, 47.0],\n",
       " 'binoculars': [3, 57, 19.0],\n",
       " 'socks': [1, 48, 48.0],\n",
       " 'book': [1, 60, 60.0],\n",
       " 'bug_net': [1, 54, 54.0]}"
      ]
     },
     "execution_count": 4,
     "metadata": {},
     "output_type": "execute_result"
    }
   ],
   "source": [
    "item_dict = {z[0]: list(z[1:]) for z in zip(items, weights, values, value_per_weight)}\n",
    "item_dict"
   ]
  },
  {
   "cell_type": "code",
   "execution_count": 5,
   "id": "a20d63f5-8946-4cc6-94fb-91099fedb89d",
   "metadata": {
    "tags": []
   },
   "outputs": [],
   "source": [
    "dict_keys_list = list(item_dict.keys())"
   ]
  },
  {
   "cell_type": "code",
   "execution_count": 6,
   "id": "0236680a-6c1a-4f92-994c-1e31cc1ee0ca",
   "metadata": {
    "tags": []
   },
   "outputs": [
    {
     "name": "stdout",
     "output_type": "stream",
     "text": [
      "Key with maximum value in the third spot: gps\n"
     ]
    }
   ],
   "source": [
    "# Define a custom key function to extract the third element of each list\n",
    "def get_third_element(item):\n",
    "    return item[2]\n",
    "\n",
    "# Use the max function with the custom key function to find the key with the maximum value in the third spot\n",
    "max_key = max(item_dict, key=lambda x: get_third_element(item_dict[x]))\n",
    "\n",
    "print(\"Key with maximum value in the third spot:\", max_key)"
   ]
  },
  {
   "cell_type": "code",
   "execution_count": 9,
   "id": "6dea2494-17e1-42b9-ae6c-bd2763bb75b7",
   "metadata": {
    "tags": []
   },
   "outputs": [],
   "source": [
    "current_capcity = 0\n",
    "object_list_index = []\n",
    "value_per_weight_dup = item_dict.copy()\n",
    "while current_capcity < capacities and len(value_per_weight_dup.items())>0:\n",
    "    current_item_key = max(value_per_weight_dup, key=lambda x: get_third_element(item_dict[x])) #get highest value per weight item\n",
    "    current_item_weight = value_per_weight_dup[current_item_key][0] #find the weight of chosen item\n",
    "    value_per_weight_dup.pop(current_item_key)#delete the object from the list so that we can iterate again\n",
    "    if current_capcity + current_item_weight < capacities:\n",
    "        current_capcity += current_item_weight #add to capacity of object\n",
    "        object_list_index.append(current_item_key) #add item by index to object list\n",
    "    else:\n",
    "        object_list_index\n",
    "    "
   ]
  },
  {
   "cell_type": "code",
   "execution_count": 10,
   "id": "5d950856-5929-4071-bb4c-dfd75e4fd7df",
   "metadata": {
    "tags": []
   },
   "outputs": [
    {
     "data": {
      "text/plain": [
       "29"
      ]
     },
     "execution_count": 10,
     "metadata": {},
     "output_type": "execute_result"
    }
   ],
   "source": [
    "current_capcity"
   ]
  },
  {
   "cell_type": "code",
   "execution_count": 11,
   "id": "c5c7d80f-e1dc-4256-8b50-095f8d2185f3",
   "metadata": {
    "tags": []
   },
   "outputs": [
    {
     "data": {
      "text/plain": [
       "['gps',\n",
       " 'pot',\n",
       " 'headlamp',\n",
       " 'hammock',\n",
       " 'multitool',\n",
       " 'fire_starter',\n",
       " 'book',\n",
       " 'bug_net',\n",
       " 'purification_tablets',\n",
       " 'tarp',\n",
       " 'chair',\n",
       " 'socks',\n",
       " 'bug_spray',\n",
       " 'shoes',\n",
       " 'charger',\n",
       " 'bottle',\n",
       " 'hiking_poles',\n",
       " 'compass',\n",
       " 'bear_spray',\n",
       " 'first_aid_kit',\n",
       " 'field_guide']"
      ]
     },
     "execution_count": 11,
     "metadata": {},
     "output_type": "execute_result"
    }
   ],
   "source": [
    "object_list_index"
   ]
  },
  {
   "cell_type": "code",
   "execution_count": 14,
   "id": "e0cb8baa-b2af-4c68-9417-ffc60b78f493",
   "metadata": {
    "tags": []
   },
   "outputs": [
    {
     "data": {
      "text/plain": [
       "1226"
      ]
     },
     "execution_count": 14,
     "metadata": {},
     "output_type": "execute_result"
    }
   ],
   "source": [
    "total_value = 0\n",
    "for key in object_list_index:\n",
    "    if key in item_dict:\n",
    "        total_value += item_dict[key][1]\n",
    "\n",
    "total_value"
   ]
  },
  {
   "cell_type": "code",
   "execution_count": null,
   "id": "4a0a12c3-8e41-472c-ab2c-3cf923aa8a91",
   "metadata": {},
   "outputs": [],
   "source": []
  }
 ],
 "metadata": {
  "kernelspec": {
   "display_name": "Python 3 (ipykernel)",
   "language": "python",
   "name": "python3"
  },
  "language_info": {
   "codemirror_mode": {
    "name": "ipython",
    "version": 3
   },
   "file_extension": ".py",
   "mimetype": "text/x-python",
   "name": "python",
   "nbconvert_exporter": "python",
   "pygments_lexer": "ipython3",
   "version": "3.11.5"
  }
 },
 "nbformat": 4,
 "nbformat_minor": 5
}
